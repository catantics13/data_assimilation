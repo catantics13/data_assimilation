{
 "cells": [
  {
   "cell_type": "markdown",
   "metadata": {},
   "source": [
    "# Adjoint example"
   ]
  },
  {
   "cell_type": "code",
   "execution_count": 60,
   "metadata": {
    "collapsed": false
   },
   "outputs": [],
   "source": [
    "import numpy as np\n",
    "import matplotlib.pyplot as plt\n",
    "from scipy import optimize\n",
    "%matplotlib inline\n",
    "\n",
    "from __future__ import print_function"
   ]
  },
  {
   "cell_type": "code",
   "execution_count": 82,
   "metadata": {
    "collapsed": true
   },
   "outputs": [],
   "source": [
    "class model_A(object):\n",
    "    \n",
    "    def __init__(self, c=1, dt=0.001, N=1000):\n",
    "        self.c = c\n",
    "        self.dt = dt\n",
    "        self.N = N\n",
    "        self.t = np.arange(0, dt*N, dt)\n",
    "    \n",
    "    def nlm(self, u0):\n",
    "        self.u0 = u0\n",
    "        u = np.empty(self.N)\n",
    "        u[0] = u0\n",
    "        fac = self.c * self.dt\n",
    "        for j in range(self.N-1):\n",
    "            u[j+1] = u[j] - fac * u[j] * u[j]\n",
    "        self.u = u.copy()\n",
    "        return u\n",
    "    \n",
    "    def tlm(self, up0, nlm=None):\n",
    "        if nlm is None:\n",
    "            u = self.u\n",
    "        else:\n",
    "            u = nlm\n",
    "        up = np.empty(self.N)\n",
    "        up[0] = up0\n",
    "        fac = self.c * self.dt\n",
    "        for j in range(self.N-1):\n",
    "            up[j+1] = (1.0 - 2.0 * fac * u[j]) * up[j]\n",
    "        return up\n",
    "    \n",
    "    def adj(self, uhatT, nlm=None):\n",
    "        if nlm is None:\n",
    "            u = self.u\n",
    "        else:\n",
    "            u = nlm\n",
    "        uhat = np.empty(self.N)\n",
    "        uhat[-1] = uhatT\n",
    "        fac = self.c * self.dt\n",
    "        for j in range(self.N-1, 0, -1):\n",
    "            uhat[j-1] = (1.0 - 2.0 * fac * u[j-1]) * uhat[j]\n",
    "        return uhat\n"
   ]
  },
  {
   "cell_type": "markdown",
   "metadata": {},
   "source": [
    "##Testing the TLM and ADJ models"
   ]
  },
  {
   "cell_type": "code",
   "execution_count": 77,
   "metadata": {
    "collapsed": true
   },
   "outputs": [],
   "source": [
    "def tlm_test(m, alphas, u0=1.0):\n",
    "    psi = np.empty(alphas.shape)\n",
    "    nlm0 = m.nlm(u0)\n",
    "    for n, alpha in enumerate(alphas):\n",
    "        psi[n] = (m.nlm(u0+alpha)[-1] - nlm0[-1]) / m.tlm(alpha, nlm0)[-1]\n",
    "    return psi\n",
    "\n",
    "def adj_test(m, u0=1.0, du=0.1):\n",
    "    nlm = m.nlm (u0)\n",
    "    tlm = m.tlm(du)\n",
    "    adj = m.adj(tlm[-1])\n",
    "    return tlm[-1]**2 / (du * adj[0])"
   ]
  },
  {
   "cell_type": "code",
   "execution_count": 78,
   "metadata": {
    "collapsed": false
   },
   "outputs": [],
   "source": [
    "def test(m):\n",
    "    # TLM test\n",
    "    print('\\n### TLM test: psi -> 1.0 as alpha -> 0')\n",
    "    alpha = 10.0**(-np.arange(1,11))\n",
    "    psi = tlm_test(m, alpha)\n",
    "    print('\\n   alpha      |      psi  ')\n",
    "    print(28*'-')\n",
    "    for a, p in zip(alpha, psi):\n",
    "        print('%10e  |  %10e' % (a, p))\n",
    "    \n",
    "    # ADJ test\n",
    "    print('\\n### Adjoint test')\n",
    "    print('\\n%.20f == 1.0' % adj_test(m))\n"
   ]
  },
  {
   "cell_type": "code",
   "execution_count": 79,
   "metadata": {
    "collapsed": false
   },
   "outputs": [
    {
     "name": "stdout",
     "output_type": "stream",
     "text": [
      "\n",
      "### TLM test: psi -> 1.0 as alpha -> 0\n",
      "\n",
      "   alpha      |      psi  \n",
      "----------------------------\n",
      "1.000000e-01  |  9.230189e-01\n",
      "1.000000e-02  |  9.917291e-01\n",
      "1.000000e-03  |  9.991667e-01\n",
      "1.000000e-04  |  9.999166e-01\n",
      "1.000000e-05  |  9.999917e-01\n",
      "1.000000e-06  |  9.999992e-01\n",
      "1.000000e-07  |  1.000000e+00\n",
      "1.000000e-08  |  1.000003e+00\n",
      "1.000000e-09  |  1.000038e+00\n",
      "1.000000e-10  |  1.000479e+00\n",
      "\n",
      "### Adjoint test\n",
      "\n",
      "1.00000000000000377476 == 1.0\n"
     ]
    }
   ],
   "source": [
    "m = model_A()\n",
    "test(m)"
   ]
  },
  {
   "cell_type": "markdown",
   "metadata": {},
   "source": [
    "##Finding the optimal initial condition\n",
    "\n",
    "Optimal IC using optimize.fmin (look, ma!  No Adjoint!)"
   ]
  },
  {
   "cell_type": "code",
   "execution_count": 80,
   "metadata": {
    "collapsed": false
   },
   "outputs": [
    {
     "name": "stdout",
     "output_type": "stream",
     "text": [
      "Optimization terminated successfully.\n",
      "         Current function value: 0.000000\n",
      "         Iterations: 34\n",
      "         Function evaluations: 69\n",
      "u0_fit = 500.000000\n"
     ]
    }
   ],
   "source": [
    "model = model_A()\n",
    "data = 0.2\n",
    "u0_guess = 1.0\n",
    "\n",
    "def cost(u0):\n",
    "    \"Return cost function, given an IC\"\n",
    "    return (model.nlm(u0)[-1] - data)**2\n",
    "\n",
    "u0_fit = optimize.fmin(cost, (u0_guess,))\n",
    "print('u0_fit = %f' % u0_fit)"
   ]
  },
  {
   "cell_type": "markdown",
   "metadata": {},
   "source": [
    "Optimal IC using `optimize.fmin_cg`"
   ]
  },
  {
   "cell_type": "code",
   "execution_count": 81,
   "metadata": {
    "collapsed": false
   },
   "outputs": [
    {
     "name": "stdout",
     "output_type": "stream",
     "text": [
      "Optimization terminated successfully.\n",
      "         Current function value: 0.000035\n",
      "         Iterations: 179\n",
      "         Function evaluations: 2640\n",
      "         Gradient evaluations: 2640\n",
      "u0_fit = 6.660951\n"
     ]
    }
   ],
   "source": [
    "def Dcost(u0):\n",
    "    \"Return cost function gradient, given an IC\"\n",
    "    nlm = model.nlm(u0)\n",
    "    du = nlm[-1] - data\n",
    "    return 2*model.adj(du, nlm=nlm)[0]\n",
    "\n",
    "u0_fit = optimize.fmin_cg(cost, (1.0,), fprime=Dcost)\n",
    "print('u0_fit = %f' % u0_fit)"
   ]
  },
  {
   "cell_type": "code",
   "execution_count": null,
   "metadata": {
    "collapsed": true
   },
   "outputs": [],
   "source": []
  }
 ],
 "metadata": {
  "kernelspec": {
   "display_name": "Python 2",
   "language": "python",
   "name": "python2"
  },
  "language_info": {
   "codemirror_mode": {
    "name": "ipython",
    "version": 2
   },
   "file_extension": ".py",
   "mimetype": "text/x-python",
   "name": "python",
   "nbconvert_exporter": "python",
   "pygments_lexer": "ipython2",
   "version": "2.7.10"
  }
 },
 "nbformat": 4,
 "nbformat_minor": 0
}
