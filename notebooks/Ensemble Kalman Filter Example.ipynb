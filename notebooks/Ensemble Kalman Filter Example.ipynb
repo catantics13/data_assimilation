{
 "cells": [
  {
   "cell_type": "code",
   "execution_count": 1,
   "metadata": {
    "collapsed": true
   },
   "outputs": [],
   "source": [
    "import numpy as np\n",
    "import matplotlib.pyplot as plt\n",
    "%matplotlib inline\n",
    "\n",
    "from __future__ import print_function"
   ]
  },
  {
   "cell_type": "code",
   "execution_count": 2,
   "metadata": {
    "collapsed": true
   },
   "outputs": [],
   "source": [
    "class L40(object):\n",
    "    '''Lorenz 40 model of zonal atmospheric flow'''\n",
    "    \n",
    "    def __init__(self, members=1, n=40, dt=0.05, F=8):\n",
    "        self.n = n\n",
    "        self.dt = dt\n",
    "        self.dtx = dt\n",
    "        self.x = np.random.normal(0., 0.1, size=(members, n))\n",
    "        self.members = members\n",
    "        self.F = F\n",
    "        self._history = []\n",
    "        self._variance = []\n",
    "    \n",
    "    def dxdt(self):\n",
    "        dxdt = np.zeros((self.members, self.n),'f8')\n",
    "        for n in range(2,self.n-1):\n",
    "            dxdt[:,n] = -self.x[:,n-2]*self.x[:,n-1] +  \\\n",
    "                        self.x[:,n-1]*self.x[:,n+1] - self.x[:,n] + self.F\n",
    "        dxdt[:,0] = -self.x[:,self.n-2]*self.x[:,self.n-1] +  \\\n",
    "                self.x[:,self.n-1]*self.x[:,1] - self.x[:,0] + self.F\n",
    "        dxdt[:,1] = -self.x[:,self.n-1]*self.x[:,0] + \\\n",
    "                self.x[:,0]*self.x[:,2] - self.x[:,1] + self.F\n",
    "        dxdt[:,self.n-1] = -self.x[:,self.n-3]*self.x[:,self.n-2] + \\\n",
    "                            self.x[:,self.n-2]*self.x[:,0] - \\\n",
    "                            self.x[:,self.n-1] + self.F\n",
    "        return dxdt\n",
    "    \n",
    "    def rk4step(self):\n",
    "        h = self.dt; hh = 0.5*h; h6 = h/6.\n",
    "        x = self.x\n",
    "        dxdt1 = self.dxdt()\n",
    "        self.x = x + hh*dxdt1\n",
    "        dxdt2 = self.dxdt()\n",
    "        self.x = x + hh*dxdt2\n",
    "        dxdt = self.dxdt()\n",
    "        self.x = x + h*dxdt\n",
    "        dxdt2 = 2.0*(dxdt2 + dxdt)\n",
    "        dxdt = self.dxdt()\n",
    "        self.x = x + h6*(dxdt1 + dxdt + dxdt2)\n",
    "    \n",
    "    def store(self):\n",
    "        self._history.append(self.x.mean(axis=0))\n",
    "        self._variance.append(self.x.var(axis=0))\n",
    "    \n",
    "    @property\n",
    "    def history(self):\n",
    "        return np.array(self._history)\n",
    "    \n",
    "    @property\n",
    "    def variance(self):\n",
    "        return np.array(self._variance)\n",
    "    \n",
    "    def assimilate(self, obs, var_obs, H=None, yprime=None):\n",
    "        if yprime is None:\n",
    "            yprime = np.sqrt(var_obs)\n",
    "        \n",
    "        if H is None:\n",
    "            H = np.eye(self.n)\n",
    "        \n",
    "        xbar = self.x.mean(axis=0)\n",
    "        xprime = self.x - xbar\n",
    "        \n",
    "        Pb = np.sum(xprime[:, np.newaxis, :]*xprime[:, :, np.newaxis], axis=0)/(self.members-1)\n",
    "        R = var_obs * np.eye(H.shape[0])\n",
    "        \n",
    "        PbHT = np.dot(Pb, H.T)\n",
    "        HPbHT = np.dot(H, PbHT)\n",
    "        K = np.dot(PbHT, np.linalg.inv(HPbHT+R))\n",
    "        \n",
    "        xbar_a = xbar + np.dot(K, obs-np.dot(H, xbar))\n",
    "        \n",
    "        xprime_a = np.zeros_like(xprime)\n",
    "        for n in range(members):\n",
    "            obs_prime = yprime*np.random.randn(H.shape[0])\n",
    "            xprime_a[n] = xprime[n] + np.dot(K, obs_prime-np.dot(H, xprime[n]))\n",
    "\n",
    "        self.x = xbar_a + xprime_a\n",
    "\n",
    "\n",
    "def fourierH(N=40):\n",
    "    H = np.zeros((N, N))\n",
    "    x = np.arange(float(N))\n",
    "    for mode in range(N):\n",
    "        H[mode, :] = np.cos(mode * x * np.pi / float(N-1))\n",
    "    return H"
   ]
  },
  {
   "cell_type": "code",
   "execution_count": 7,
   "metadata": {
    "collapsed": false
   },
   "outputs": [
    {
     "ename": "ValueError",
     "evalue": "operands could not be broadcast together with shapes (2000,40) (1000,40) ",
     "output_type": "error",
     "traceback": [
      "\u001b[0;31m---------------------------------------------------------------------------\u001b[0m",
      "\u001b[0;31mValueError\u001b[0m                                Traceback (most recent call last)",
      "\u001b[0;32m<ipython-input-7-32084ac71f1e>\u001b[0m in \u001b[0;36m<module>\u001b[0;34m()\u001b[0m\n\u001b[1;32m     37\u001b[0m     \u001b[0;32mreturn\u001b[0m \u001b[0merr\u001b[0m\u001b[0;34m\u001b[0m\u001b[0m\n\u001b[1;32m     38\u001b[0m \u001b[0;34m\u001b[0m\u001b[0m\n\u001b[0;32m---> 39\u001b[0;31m \u001b[0merr\u001b[0m \u001b[0;34m=\u001b[0m \u001b[0mrun_group\u001b[0m\u001b[0;34m(\u001b[0m\u001b[0;34m)\u001b[0m\u001b[0;34m\u001b[0m\u001b[0m\n\u001b[0m",
      "\u001b[0;32m<ipython-input-7-32084ac71f1e>\u001b[0m in \u001b[0;36mrun_group\u001b[0;34m(Nassim)\u001b[0m\n\u001b[1;32m     33\u001b[0m             \u001b[0mensemble\u001b[0m\u001b[0;34m.\u001b[0m\u001b[0mstore\u001b[0m\u001b[0;34m(\u001b[0m\u001b[0;34m)\u001b[0m\u001b[0;34m\u001b[0m\u001b[0m\n\u001b[1;32m     34\u001b[0m \u001b[0;34m\u001b[0m\u001b[0m\n\u001b[0;32m---> 35\u001b[0;31m         \u001b[0merr\u001b[0m\u001b[0;34m.\u001b[0m\u001b[0mappend\u001b[0m\u001b[0;34m(\u001b[0m\u001b[0mnp\u001b[0m\u001b[0;34m.\u001b[0m\u001b[0mmean\u001b[0m\u001b[0;34m(\u001b[0m\u001b[0;34m(\u001b[0m\u001b[0mtruth\u001b[0m\u001b[0;34m.\u001b[0m\u001b[0mhistory\u001b[0m\u001b[0;34m-\u001b[0m\u001b[0mensemble\u001b[0m\u001b[0;34m.\u001b[0m\u001b[0mhistory\u001b[0m\u001b[0;34m)\u001b[0m\u001b[0;34m**\u001b[0m\u001b[0;36m2\u001b[0m\u001b[0;34m,\u001b[0m \u001b[0maxis\u001b[0m\u001b[0;34m=\u001b[0m\u001b[0;34m-\u001b[0m\u001b[0;36m1\u001b[0m\u001b[0;34m)\u001b[0m\u001b[0;34m)\u001b[0m\u001b[0;34m\u001b[0m\u001b[0m\n\u001b[0m\u001b[1;32m     36\u001b[0m \u001b[0;34m\u001b[0m\u001b[0m\n\u001b[1;32m     37\u001b[0m     \u001b[0;32mreturn\u001b[0m \u001b[0merr\u001b[0m\u001b[0;34m\u001b[0m\u001b[0m\n",
      "\u001b[0;31mValueError\u001b[0m: operands could not be broadcast together with shapes (2000,40) (1000,40) "
     ]
    }
   ],
   "source": [
    "def run_group(Nassim=3):\n",
    "    \n",
    "    members = 50\n",
    "    std_obs = 1.0\n",
    "    var_obs = std_obs**2\n",
    "\n",
    "    H = np.eye(40)\n",
    "    # H = np.eye(truth.n)[::2, :]\n",
    "    # H = np.eye(20, 40)\n",
    "    # H = fourierH()\n",
    "\n",
    "    Nsteps = 1000\n",
    "    truth = L40(members=1)\n",
    "    for n in range(500):  # Initialize truth with a mature state\n",
    "        truth.rk4step()\n",
    "\n",
    "    err = []\n",
    "    for ittr in range(10):\n",
    "        ensemble = L40(members=members)\n",
    "        for n in range(members):\n",
    "            ensemble.x[n] = truth.x + std_obs*np.random.randn(40)\n",
    "\n",
    "        for n in range(Nsteps):\n",
    "            # Step\n",
    "            truth.rk4step()\n",
    "            ensemble.rk4step()\n",
    "            # Maybe assimilate\n",
    "            if np.mod(n, Nassim)==0:\n",
    "                obs = np.dot(H, truth.x[0]) + std_obs*np.random.randn(H.shape[0])\n",
    "                ensemble.assimilate(obs, var_obs, yprime=None, H=H)\n",
    "            # Store\n",
    "            truth.store()\n",
    "            ensemble.store()\n",
    "\n",
    "        err.append(np.mean((truth.history-ensemble.history)**2, axis=-1))\n",
    "    \n",
    "    return err\n",
    "\n",
    "err = run_group()"
   ]
  },
  {
   "cell_type": "code",
   "execution_count": null,
   "metadata": {
    "collapsed": true
   },
   "outputs": [],
   "source": []
  }
 ],
 "metadata": {
  "kernelspec": {
   "display_name": "Python 3",
   "language": "python",
   "name": "python3"
  },
  "language_info": {
   "codemirror_mode": {
    "name": "ipython",
    "version": 3
   },
   "file_extension": ".py",
   "mimetype": "text/x-python",
   "name": "python",
   "nbconvert_exporter": "python",
   "pygments_lexer": "ipython3",
   "version": "3.4.3"
  }
 },
 "nbformat": 4,
 "nbformat_minor": 0
}
