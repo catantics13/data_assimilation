{
 "cells": [
  {
   "cell_type": "code",
   "execution_count": 1,
   "metadata": {
    "collapsed": true
   },
   "outputs": [],
   "source": [
    "import numpy as np\n",
    "import matplotlib.pyplot as plt\n",
    "%matplotlib inline\n",
    "\n",
    "from __future__ import print_function"
   ]
  },
  {
   "cell_type": "code",
   "execution_count": 2,
   "metadata": {
    "collapsed": true
   },
   "outputs": [],
   "source": [
    "class L40(object):\n",
    "    '''Lorenz 40 model of zonal atmospheric flow'''\n",
    "    \n",
    "    def __init__(self, members=1, n=40, dt=0.05, F=8):\n",
    "        self.n = n\n",
    "        self.dt = dt\n",
    "        self.dtx = dt\n",
    "        self.x = np.random.normal(0., 0.1, size=(members, n))\n",
    "        self.members = members\n",
    "        self.F = F\n",
    "    \n",
    "    def dxdt(self):\n",
    "        dxdt = np.zeros((self.members, self.n),'f8')\n",
    "        for n in range(2,self.n-1):\n",
    "            dxdt[:,n] = -self.x[:,n-2]*self.x[:,n-1] +  \\\n",
    "                        self.x[:,n-1]*self.x[:,n+1] - self.x[:,n] + self.F\n",
    "        dxdt[:,0] = -self.x[:,self.n-2]*self.x[:,self.n-1] +  \\\n",
    "                self.x[:,self.n-1]*self.x[:,1] - self.x[:,0] + self.F\n",
    "        dxdt[:,1] = -self.x[:,self.n-1]*self.x[:,0] + \\\n",
    "                self.x[:,0]*self.x[:,2] - self.x[:,1] + self.F\n",
    "        dxdt[:,self.n-1] = -self.x[:,self.n-3]*self.x[:,self.n-2] + \\\n",
    "                            self.x[:,self.n-2]*self.x[:,0] - \\\n",
    "                            self.x[:,self.n-1] + self.F\n",
    "        return dxdt\n",
    "    \n",
    "    def rk4step(self):\n",
    "        h = self.dt; hh = 0.5*h; h6 = h/6.\n",
    "        x = self.x\n",
    "        dxdt1 = self.dxdt()\n",
    "        self.x = x + hh*dxdt1\n",
    "        dxdt2 = self.dxdt()\n",
    "        self.x = x + hh*dxdt2\n",
    "        dxdt = self.dxdt()\n",
    "        self.x = x + h*dxdt\n",
    "        dxdt2 = 2.0*(dxdt2 + dxdt)\n",
    "        dxdt = self.dxdt()\n",
    "        self.x = x + h6*(dxdt1 + dxdt + dxdt2)\n",
    "\n",
    "        \n"
   ]
  },
  {
   "cell_type": "code",
   "execution_count": 84,
   "metadata": {
    "collapsed": true
   },
   "outputs": [],
   "source": [
    "members = 50\n",
    "\n",
    "truth = L40(members=1)\n",
    "for n in range(200):  # Initialize truth with a mature state\n",
    "    truth.rk4step()\n",
    "\n",
    "ensemble = L40(members=members)\n",
    "for n in range(members):\n",
    "    ensemble.x[n] = truth.x + 0.1*np.random.randn(40)\n",
    "    \n"
   ]
  },
  {
   "cell_type": "code",
   "execution_count": 85,
   "metadata": {
    "collapsed": false
   },
   "outputs": [],
   "source": [
    "for n in range(40):\n",
    "    truth.rk4step()\n",
    "    ensemble.rk4step()\n",
    "\n",
    "xbar = ensemble.x.mean(axis=0)\n",
    "xprime = ensemble.x - xbar\n",
    "Pb = np.sum(xprime[:, np.newaxis, :]*xprime[:, :, np.newaxis], axis=0)/(members-1)"
   ]
  },
  {
   "cell_type": "code",
   "execution_count": 86,
   "metadata": {
    "collapsed": false
   },
   "outputs": [],
   "source": [
    "std_obs = 0.5\n",
    "var_obs = std_obs**2\n",
    "obs = truth.x[0] + std_obs*np.random.randn(40)\n",
    "R = var_obs * np.eye(40)"
   ]
  },
  {
   "cell_type": "code",
   "execution_count": 88,
   "metadata": {
    "collapsed": false
   },
   "outputs": [],
   "source": [
    "K = np.dot(Pb, np.linalg.inv(Pb+R))"
   ]
  },
  {
   "cell_type": "code",
   "execution_count": 106,
   "metadata": {
    "collapsed": false
   },
   "outputs": [],
   "source": [
    "xbar_a = xbar + np.dot(K, obs-xbar)\n",
    "\n",
    "xprime_a = np.zeros_like(xprime)\n",
    "for n in range(members):\n",
    "    obs_prime = std_obs*np.random.randn(40)\n",
    "    xprime_a[n] = xprime[n] + np.dot(K, obs_prime-xprime[n])\n",
    "\n",
    "ensemble.x = xbar_a + xprime_a"
   ]
  },
  {
   "cell_type": "code",
   "execution_count": null,
   "metadata": {
    "collapsed": false
   },
   "outputs": [],
   "source": []
  },
  {
   "cell_type": "code",
   "execution_count": null,
   "metadata": {
    "collapsed": true
   },
   "outputs": [],
   "source": []
  }
 ],
 "metadata": {
  "kernelspec": {
   "display_name": "Python 3",
   "language": "python",
   "name": "python3"
  },
  "language_info": {
   "codemirror_mode": {
    "name": "ipython",
    "version": 3
   },
   "file_extension": ".py",
   "mimetype": "text/x-python",
   "name": "python",
   "nbconvert_exporter": "python",
   "pygments_lexer": "ipython3",
   "version": "3.4.3"
  }
 },
 "nbformat": 4,
 "nbformat_minor": 0
}
